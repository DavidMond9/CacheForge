{
  "nbformat": 4,
  "nbformat_minor": 0,
  "metadata": {
    "colab": {
      "provenance": []
    },
    "kernelspec": {
      "name": "python3",
      "display_name": "Python 3"
    },
    "language_info": {
      "name": "python"
    }
  },
  "cells": [
    {
      "cell_type": "code",
      "source": [
        "from openai import OpenAI\n",
        "import pandas as pd\n",
        "import numpy as np\n",
        "import gc\n",
        "from tqdm import tqdm\n",
        "import os\n",
        "import warnings\n",
        "\n",
        "warnings.filterwarnings('ignore')"
      ],
      "metadata": {
        "id": "Yu_Qq5YJ4RV4"
      },
      "execution_count": 15,
      "outputs": []
    },
    {
      "cell_type": "code",
      "source": [
        "# 1. Set your OpenAI API key\n",
        "client = OpenAI(api_key=\"\")"
      ],
      "metadata": {
        "id": "qxi5Vt3f4TM4"
      },
      "execution_count": 16,
      "outputs": []
    },
    {
      "cell_type": "code",
      "source": [
        "# 2. Define a function to send prompt to OpenAI\n",
        "def analyze_text_prompt_openai(query):\n",
        "    response = client.chat.completions.create(\n",
        "        model=\"o4-mini\",\n",
        "        messages=[\n",
        "            {\"role\": \"system\", \"content\": \"You are a helpful assistant that outputs only clean C++ code without any explanations.\"},\n",
        "            {\"role\": \"user\", \"content\": query}\n",
        "        ]\n",
        "    )\n",
        "    generated_text = response.choices[0].message.content\n",
        "    return query, generated_text"
      ],
      "metadata": {
        "id": "cOknmn_i4WdP"
      },
      "execution_count": 17,
      "outputs": []
    },
    {
      "cell_type": "code",
      "source": [
        "queries = [\n",
        "    \"\"\"\n",
        "You are tasked to generate a complete, compilable C++ file for a CPU cache eviction policy for ChampSim CRC2.\n",
        "\n",
        "DO NOT output any English text, description, or explanation.\n",
        "ONLY output C++ code.\n",
        "\n",
        "You are free to design **any valid eviction policy** — it could be based on:\n",
        "- LRU (Least Recently Used)\n",
        "- Random\n",
        "- LFU (Least Frequently Used)\n",
        "- LFU+LRU hybrid\n",
        "- Custom heuristics\n",
        "- Anything that is internally consistent\n",
        "\n",
        "However, you must strictly satisfy the following rules:\n",
        "\n",
        "- Correctly match the ChampSim CRC2 interface:\n",
        "  - `void InitReplacementState()`\n",
        "  - `uint32_t GetVictimInSet(uint32_t cpu, uint32_t set, const BLOCK *current_set, uint64_t PC, uint64_t paddr, uint32_t type)`\n",
        "  - `void UpdateReplacementState(uint32_t cpu, uint32_t set, uint32_t way, uint64_t paddr, uint64_t PC, uint64_t victim_addr, uint32_t type, uint8_t hit)`\n",
        "  - `void PrintStats_Heartbeat()`\n",
        "  - `void PrintStats()`\n",
        "- Maintain any necessary per-line metadata (like access timestamps, access counters, etc.) appropriately\n",
        "- Assume flat cache structure:\n",
        "  - Number of sets = `NUM_SET`\n",
        "  - Associativity = `ASSOC`\n",
        "- At the top of your code, manually define:\n",
        "  - `#define NUM_SET 2048`\n",
        "  - `#define ASSOC 16`\n",
        "- Only use standard C++11 or newer features\n",
        "- Output pure C++ between `%%` markers only (no markdown, no ```cpp)\n",
        "\n",
        "Below is an **example starter structure** — you must complete it based on the policy you choose:\n",
        "\n",
        "%%\n",
        "#include \"champsim_crc2.h\"\n",
        "#include <vector>\n",
        "#include <cstdint>\n",
        "#include <climits>\n",
        "#include <cstdlib>\n",
        "\n",
        "#define NUM_SET 2048\n",
        "#define ASSOC 16\n",
        "\n",
        "// (Your metadata structs here)\n",
        "\n",
        "void InitReplacementState() {\n",
        "    // (Your initialization code here)\n",
        "}\n",
        "\n",
        "uint32_t GetVictimInSet(uint32_t cpu, uint32_t set, const BLOCK* current_set, uint64_t PC, uint64_t paddr, uint32_t type) {\n",
        "    // (Your victim selection logic here)\n",
        "}\n",
        "\n",
        "void UpdateReplacementState(uint32_t cpu, uint32_t set, uint32_t way, uint64_t paddr, uint64_t PC, uint64_t victim_addr, uint32_t type, uint8_t hit) {\n",
        "    // (Your state update logic here)\n",
        "}\n",
        "\n",
        "void PrintStats_Heartbeat() {\n",
        "    // (Heartbeat stats here)\n",
        "}\n",
        "\n",
        "void PrintStats() {\n",
        "    // (Final stats here)\n",
        "}\n",
        "%%\n",
        "\"\"\"\n",
        "]"
      ],
      "metadata": {
        "id": "yAMVyOUq4ZPI"
      },
      "execution_count": 18,
      "outputs": []
    },
    {
      "cell_type": "code",
      "source": [
        "# 4. Output directory setup\n",
        "OUTPUT_DIR = \"\"\n",
        "CS_DIR = \"\"\n",
        "os.makedirs(OUTPUT_DIR, exist_ok=True)\n",
        "\n",
        "results = []"
      ],
      "metadata": {
        "id": "Fd1MtDFf4cEB"
      },
      "execution_count": 19,
      "outputs": []
    },
    {
      "cell_type": "code",
      "source": [
        "# 5. Run the queries through OpenAI and save outputs\n",
        "for idx, query in enumerate(tqdm(queries, desc=\"Evaluating Queries\"), start=1):\n",
        "    prompt, response = analyze_text_prompt_openai(query)\n",
        "\n",
        "    # Clean if prompt is echoed\n",
        "    if response.startswith(prompt):\n",
        "        response = response[len(prompt):]\n",
        "\n",
        "    # Extract C++ code between %%\n",
        "    code_start = response.find(\"%%\") + 2\n",
        "    code_end = response.rfind(\"%%\")\n",
        "    if code_start == -1 or code_end == -1:\n",
        "        extracted_code = response.strip()\n",
        "    else:\n",
        "        extracted_code = response[code_start:code_end].strip()\n",
        "\n",
        "    # Save the C++ code file\n",
        "    cpp_file_path = os.path.join(OUTPUT_DIR, f\"replacement_policy_{idx}.cc\")\n",
        "    with open(cpp_file_path, \"w\") as f:\n",
        "        f.write(extracted_code)\n",
        "\n",
        "    cpp_file_path = os.path.join(CS_DIR, f\"replacement_policy_{idx}.cc\")\n",
        "    with open(cpp_file_path, \"w\") as f:\n",
        "        f.write(extracted_code)\n",
        "\n",
        "    # Log the full response too\n",
        "    results.append((query, response))"
      ],
      "metadata": {
        "colab": {
          "base_uri": "https://localhost:8080/"
        },
        "id": "byNW2Liy4hWI",
        "outputId": "11c3f839-fc72-4eac-c97f-aa093128ad77"
      },
      "execution_count": 20,
      "outputs": [
        {
          "output_type": "stream",
          "name": "stderr",
          "text": [
            "Evaluating Queries: 100%|██████████| 1/1 [00:19<00:00, 19.72s/it]\n"
          ]
        }
      ]
    },
    {
      "cell_type": "code",
      "execution_count": 21,
      "metadata": {
        "colab": {
          "base_uri": "https://localhost:8080/"
        },
        "id": "0c3bY_IL2AG-",
        "outputId": "4b250a3b-1291-4e72-ef4b-a373d970e6f3"
      },
      "outputs": [
        {
          "output_type": "stream",
          "name": "stdout",
          "text": [
            "✅ Testing complete. C++ files saved in /content/drive/MyDrive/GenAI Project/outputs\n"
          ]
        }
      ],
      "source": [
        "# 6. Save a CSV file logging all responses\n",
        "df = pd.DataFrame(results, columns=[\"Query\", \"FullResponse\"])\n",
        "csv_path = os.path.join(OUTPUT_DIR, \"OpenAI_RAG_Evals.csv\")\n",
        "df.to_csv(csv_path, index=False)\n",
        "\n",
        "print(f\"Testing complete. C++ files saved in {OUTPUT_DIR}\")"
      ]
    },
    {
      "cell_type": "code",
      "source": [
        "import subprocess\n",
        "\n",
        "# Step 1: Set your existing .cc filename (without .cc extension)\n",
        "cpp_filename = f\"replacement_policy_1\"\n",
        "print(f\"Using file: {cpp_filename}.cc\")\n",
        "\n",
        "# Step 2: Move to your project directory\n",
        "%cd \"\"\n",
        "\n",
        "# Step 3: Compile your existing .cc file with -Iinc and handle errors\n",
        "compile_command = f\"g++ -Wall --std=c++11 -Iinc -o {cpp_filename}-config1 example/{cpp_filename}.cc lib/config1.a\"\n",
        "compile_result = subprocess.run(compile_command, shell=True, capture_output=True, text=True)\n",
        "\n",
        "if compile_result.returncode != 0:\n",
        "    print(\"Compilation failed!\")\n",
        "    print(\"Error log:\")\n",
        "    print(compile_result.stderr)\n",
        "else:\n",
        "    print(f\"{cpp_filename}-config1 compiled successfully.\")\n",
        "\n",
        "    # Step 4: Run the simulation and save output to a text file\n",
        "    run_command = f\"./{cpp_filename}-config1 -warmup_instructions 1000000 -simulation_instructions 10000000 -traces trace/astar_313B.trace.gz > ../outputs/{cpp_filename}_run_output.txt\"\n",
        "    run_result = subprocess.run(run_command, shell=True)\n",
        "\n",
        "    if run_result.returncode != 0:\n",
        "        print(\"Simulation failed!\")\n",
        "    else:\n",
        "        print(f\"Simulation finished. Output saved to outputs/{cpp_filename}_run_output.txt\")\n"
      ],
      "metadata": {
        "colab": {
          "base_uri": "https://localhost:8080/"
        },
        "id": "ZyB7-kSVAQ-s",
        "outputId": "20795643-f809-4dc5-b1a5-f2d58de580af"
      },
      "execution_count": 22,
      "outputs": [
        {
          "output_type": "stream",
          "name": "stdout",
          "text": [
            "✅ Using file: replacement_policy_1.cc\n",
            "/content/drive/MyDrive/GenAI Project/ChampSim_CRC2\n",
            "✅ replacement_policy_1-config1 compiled successfully.\n",
            "✅ Simulation finished. Output saved to outputs/replacement_policy_1_run_output.txt\n"
          ]
        }
      ]
    }
  ]
}